{
 "cells": [
  {
   "cell_type": "markdown",
   "id": "868f73f5-4475-4c20-ba3d-a23d54481f3a",
   "metadata": {},
   "source": [
    "# Practice Projet: GDP extraction and processing\n",
    "course: Python for Data Science, AI and Development (IBM)\n",
    "## Project Scenario:\n",
    "An international firm that is looking to expand its business in different countries across the world has recruited you. You have been hired as a junior Data Engineer and are tasked with creating a script that can extract the list of the top 10 largest economies of the world in descending order of their GDPs in Billion USD (rounded to 2 decimal places), as logged by the International Monetary Fund (IMF).\n",
    "\n",
    "The required data seems to be available on the URL mentioned below:\n",
    "\n",
    "URL: https://web.archive.org/web/20230902185326/https://en.wikipedia.org/wiki/List_of_countries_by_GDP_%28nominal%29"
   ]
  },
  {
   "cell_type": "code",
   "execution_count": 1,
   "id": "a50822c4-3cfe-40eb-981b-96713e6a0b6a",
   "metadata": {},
   "outputs": [],
   "source": [
    "import numpy as np\n",
    "import pandas as pd\n",
    "import warnings\n",
    "warnings.filterwarnings('ignore')"
   ]
  },
  {
   "cell_type": "code",
   "execution_count": 2,
   "id": "1fa74eb9-535f-44ca-a7cc-88123ab344e9",
   "metadata": {},
   "outputs": [],
   "source": [
    "url =' https://web.archive.org/web/20230902185326/https://en.wikipedia.org/wiki/List_of_countries_by_GDP_%28nominal%29'"
   ]
  },
  {
   "cell_type": "code",
   "execution_count": 24,
   "id": "aebf430f-0420-4cd9-ba79-3bc9861d28a1",
   "metadata": {},
   "outputs": [],
   "source": [
    "# extract tables from webpage\n",
    "tables = pd.read_html(url)\n",
    "df = tables[3] # getting the third table"
   ]
  },
  {
   "cell_type": "code",
   "execution_count": 25,
   "id": "b441f216-f48e-4698-97b5-d364c5551aa9",
   "metadata": {},
   "outputs": [],
   "source": [
    "# replacing the column headers with column numbers\n",
    "df.columns = range(df.shape[1])"
   ]
  },
  {
   "cell_type": "code",
   "execution_count": 26,
   "id": "22605d36-843b-4303-b3e1-1b57968ff79a",
   "metadata": {},
   "outputs": [],
   "source": [
    "# retain the columns index: 0 and 2 (country name and GDP)\n",
    "df = df[[0, 2]]"
   ]
  },
  {
   "cell_type": "code",
   "execution_count": 27,
   "id": "c1c86d0d-9151-40a2-b71a-dbfdaa90585c",
   "metadata": {},
   "outputs": [],
   "source": [
    "# retain rows with index 1 to 10 indicating the top 10 economies\n",
    "df = df.iloc[1:11,:]"
   ]
  },
  {
   "cell_type": "code",
   "execution_count": 28,
   "id": "effab5e1-fe9a-4e4d-a3ac-988aa0c161ad",
   "metadata": {},
   "outputs": [],
   "source": [
    "# assign column names as \"Country\" and \"GDP (Million USD)\"\n",
    "df.columns = ['Country', 'GDP (Million USD)']"
   ]
  },
  {
   "cell_type": "code",
   "execution_count": 29,
   "id": "5cbca282-f42e-44e7-92d2-d65ca938ddb7",
   "metadata": {},
   "outputs": [
    {
     "name": "stdout",
     "output_type": "stream",
     "text": [
      "           Country GDP (Million USD)\n",
      "1    United States          26854599\n",
      "2            China          19373586\n",
      "3            Japan           4409738\n",
      "4          Germany           4308854\n",
      "5            India           3736882\n",
      "6   United Kingdom           3158938\n",
      "7           France           2923489\n",
      "8            Italy           2169745\n",
      "9           Canada           2089672\n",
      "10          Brazil           2081235\n"
     ]
    }
   ],
   "source": [
    "print(df)"
   ]
  },
  {
   "cell_type": "code",
   "execution_count": 30,
   "id": "57fbf30b-52c4-4a3a-b746-38aea574dc48",
   "metadata": {},
   "outputs": [],
   "source": [
    "# changing the datatype of GDP column to int\n",
    "df['GDP (Million USD)'] = df['GDP (Million USD)'].astype(int)"
   ]
  },
  {
   "cell_type": "code",
   "execution_count": 31,
   "id": "878e6823-9565-4365-9f1c-0f3cd4aa8b14",
   "metadata": {},
   "outputs": [],
   "source": [
    "# converting million to billion\n",
    "df['GDP (Million USD)'] = df['GDP (Million USD)']/1000"
   ]
  },
  {
   "cell_type": "code",
   "execution_count": 32,
   "id": "a9c9f022-5c19-4930-84fb-24d179240a50",
   "metadata": {},
   "outputs": [],
   "source": [
    "# rounding off to 2 decimal places\n",
    "df['GDP (Million USD)'] = np.round(df[['GDP (Million USD)']], 2)"
   ]
  },
  {
   "cell_type": "code",
   "execution_count": 33,
   "id": "fc616405-1a2d-4fb7-8429-246f9fe0e432",
   "metadata": {},
   "outputs": [
    {
     "data": {
      "text/html": [
       "<div>\n",
       "<style scoped>\n",
       "    .dataframe tbody tr th:only-of-type {\n",
       "        vertical-align: middle;\n",
       "    }\n",
       "\n",
       "    .dataframe tbody tr th {\n",
       "        vertical-align: top;\n",
       "    }\n",
       "\n",
       "    .dataframe thead th {\n",
       "        text-align: right;\n",
       "    }\n",
       "</style>\n",
       "<table border=\"1\" class=\"dataframe\">\n",
       "  <thead>\n",
       "    <tr style=\"text-align: right;\">\n",
       "      <th></th>\n",
       "      <th>Country</th>\n",
       "      <th>GDP (Billion USD)</th>\n",
       "    </tr>\n",
       "  </thead>\n",
       "  <tbody>\n",
       "    <tr>\n",
       "      <th>1</th>\n",
       "      <td>United States</td>\n",
       "      <td>26854.60</td>\n",
       "    </tr>\n",
       "    <tr>\n",
       "      <th>2</th>\n",
       "      <td>China</td>\n",
       "      <td>19373.59</td>\n",
       "    </tr>\n",
       "    <tr>\n",
       "      <th>3</th>\n",
       "      <td>Japan</td>\n",
       "      <td>4409.74</td>\n",
       "    </tr>\n",
       "    <tr>\n",
       "      <th>4</th>\n",
       "      <td>Germany</td>\n",
       "      <td>4308.85</td>\n",
       "    </tr>\n",
       "    <tr>\n",
       "      <th>5</th>\n",
       "      <td>India</td>\n",
       "      <td>3736.88</td>\n",
       "    </tr>\n",
       "    <tr>\n",
       "      <th>6</th>\n",
       "      <td>United Kingdom</td>\n",
       "      <td>3158.94</td>\n",
       "    </tr>\n",
       "    <tr>\n",
       "      <th>7</th>\n",
       "      <td>France</td>\n",
       "      <td>2923.49</td>\n",
       "    </tr>\n",
       "    <tr>\n",
       "      <th>8</th>\n",
       "      <td>Italy</td>\n",
       "      <td>2169.74</td>\n",
       "    </tr>\n",
       "    <tr>\n",
       "      <th>9</th>\n",
       "      <td>Canada</td>\n",
       "      <td>2089.67</td>\n",
       "    </tr>\n",
       "    <tr>\n",
       "      <th>10</th>\n",
       "      <td>Brazil</td>\n",
       "      <td>2081.24</td>\n",
       "    </tr>\n",
       "  </tbody>\n",
       "</table>\n",
       "</div>"
      ],
      "text/plain": [
       "           Country  GDP (Billion USD)\n",
       "1    United States           26854.60\n",
       "2            China           19373.59\n",
       "3            Japan            4409.74\n",
       "4          Germany            4308.85\n",
       "5            India            3736.88\n",
       "6   United Kingdom            3158.94\n",
       "7           France            2923.49\n",
       "8            Italy            2169.74\n",
       "9           Canada            2089.67\n",
       "10          Brazil            2081.24"
      ]
     },
     "execution_count": 33,
     "metadata": {},
     "output_type": "execute_result"
    }
   ],
   "source": [
    "# renaming column header\n",
    "df.rename(columns = {'GDP (Million USD)': 'GDP (Billion USD)'})"
   ]
  },
  {
   "cell_type": "code",
   "execution_count": 34,
   "id": "65c2c404-bade-4d4a-b8b6-3701ee36c734",
   "metadata": {},
   "outputs": [],
   "source": [
    "df.to_csv(\"10LargestEconimies.csv\")"
   ]
  },
  {
   "cell_type": "code",
   "execution_count": null,
   "id": "3cb287cb-8f21-4060-a563-5c97ad9ad806",
   "metadata": {},
   "outputs": [],
   "source": []
  }
 ],
 "metadata": {
  "kernelspec": {
   "display_name": "Python 3 (ipykernel)",
   "language": "python",
   "name": "python3"
  },
  "language_info": {
   "codemirror_mode": {
    "name": "ipython",
    "version": 3
   },
   "file_extension": ".py",
   "mimetype": "text/x-python",
   "name": "python",
   "nbconvert_exporter": "python",
   "pygments_lexer": "ipython3",
   "version": "3.12.4"
  }
 },
 "nbformat": 4,
 "nbformat_minor": 5
}
